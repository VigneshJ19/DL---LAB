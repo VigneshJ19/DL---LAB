{
  "nbformat": 4,
  "nbformat_minor": 0,
  "metadata": {
    "colab": {
      "name": "20MAI0012 .ipynb",
      "provenance": [],
      "include_colab_link": true
    },
    "kernelspec": {
      "display_name": "Python 3",
      "language": "python",
      "name": "python3"
    },
    "language_info": {
      "codemirror_mode": {
        "name": "ipython",
        "version": 3
      },
      "file_extension": ".py",
      "mimetype": "text/x-python",
      "name": "python",
      "nbconvert_exporter": "python",
      "pygments_lexer": "ipython3",
      "version": "3.7.4"
    }
  },
  "cells": [
    {
      "cell_type": "markdown",
      "metadata": {
        "id": "view-in-github",
        "colab_type": "text"
      },
      "source": [
        "<a href=\"https://colab.research.google.com/github/VigneshJ19/DL---LAB/blob/main/Assessment%20-%203%20-%20CNN.ipynb\" target=\"_parent\"><img src=\"https://colab.research.google.com/assets/colab-badge.svg\" alt=\"Open In Colab\"/></a>"
      ]
    },
    {
      "cell_type": "markdown",
      "metadata": {
        "id": "5CIfRzzSVX6g"
      },
      "source": [
        "# Deep Learning and its Applications - Assessment - 3 - CNN\n",
        "\n",
        "**NAME :**Vignesh J\n",
        "\n",
        "**ROLL NO :**20MAI0012"
      ]
    },
    {
      "cell_type": "code",
      "metadata": {
        "id": "jXIA07Sf6q0E",
        "outputId": "1fe42b9c-7f59-4d61-ffd4-ed3a446b6ce5"
      },
      "source": [
        "from keras.models import Sequential\n",
        "from keras.layers import Conv2D, MaxPooling2D\n",
        "from keras.layers import Activation, Dropout, Flatten, Dense\n",
        "from keras import optimizers\n",
        "from keras import backend as K\n",
        "import sklearn\n",
        "from keras.models import load_model\n",
        "import pandas as pd  \n",
        "from keras.preprocessing import image\n",
        "from PIL import Image\n",
        "import os\n",
        "import keras\n",
        "import keras.utils\n",
        "from keras import utils as np_utils"
      ],
      "execution_count": null,
      "outputs": [
        {
          "output_type": "stream",
          "text": [
            "Using TensorFlow backend.\n"
          ],
          "name": "stderr"
        }
      ]
    },
    {
      "cell_type": "code",
      "metadata": {
        "id": "mqA9ho4t6wCP"
      },
      "source": [
        "import numpy as np\n",
        "from keras.preprocessing.image import ImageDataGenerator\n",
        "from sklearn.metrics import confusion_matrix, accuracy_score, classification_report\n",
        "from sklearn import metrics\n",
        "import csv"
      ],
      "execution_count": null,
      "outputs": []
    },
    {
      "cell_type": "code",
      "metadata": {
        "id": "mLWFndfL62_z"
      },
      "source": [
        "img_width, img_height = 150, 150"
      ],
      "execution_count": null,
      "outputs": []
    },
    {
      "cell_type": "markdown",
      "metadata": {
        "id": "cupp7waM_PF4"
      },
      "source": [
        "Dataset link : https://www.kaggle.com/vincee/intel-image-classification-cnn-keras/data?select=seg_train"
      ]
    },
    {
      "cell_type": "code",
      "metadata": {
        "id": "TT6FTDiM666a"
      },
      "source": [
        "train_data_dir = r\"C:\\Users\\VIGNESH J\\Downloads\\scenery_dataset\\seg_train\"\n",
        "test_data_dir = r\"C:\\Users\\VIGNESH J\\Downloads\\scenery_dataset\\seg_train\"\n",
        "nb_train_samples = 14034\n",
        "nb_test_samples = 3000\n",
        "epochs = 8\n",
        "batch_size = 16\n",
        "\n",
        "if K.image_data_format() == 'channels_first':\n",
        "    input_shape = (3, img_width, img_height)\n",
        "else:\n",
        "    input_shape = (img_width, img_height, 3)"
      ],
      "execution_count": null,
      "outputs": []
    },
    {
      "cell_type": "code",
      "metadata": {
        "colab": {
          "base_uri": "https://localhost:8080/"
        },
        "id": "H_vKRuGQ6_7V",
        "outputId": "3c4e4876-20f2-436f-8601-0befae723edb"
      },
      "source": [
        "### Setup the model\n",
        "model = Sequential()\n",
        "model.add(Conv2D(32, (3, 3), input_shape=input_shape))\n",
        "model.add(Activation('relu'))\n",
        "model.add(MaxPooling2D(pool_size=(2, 2)))\n",
        "\n",
        "model.add(Conv2D(32, (3, 3)))\n",
        "model.add(Activation('relu'))\n",
        "model.add(MaxPooling2D(pool_size=(2, 2)))\n",
        "\n",
        "model.add(Conv2D(64, (3, 3)))\n",
        "model.add(Activation('relu'))\n",
        "model.add(MaxPooling2D(pool_size=(2, 2)))\n",
        "\n",
        "model.add(Flatten())\n",
        "model.add(Dense(64))\n",
        "model.add(Activation('relu'))\n",
        "model.add(Dropout(0.5))\n",
        "model.add(Dense(6))\n",
        "model.add(Activation('softmax'))\n",
        "\n",
        "model.compile(loss='categorical_crossentropy',\n",
        "              optimizer='rmsprop',\n",
        "              metrics=['accuracy'])\n",
        "model.summary()\n",
        "\n",
        "\n",
        "from keras.preprocessing.image import ImageDataGenerator\n",
        "train_datagen = ImageDataGenerator(\n",
        "    rescale=1. / 255,\n",
        "    shear_range=0.2,\n",
        "    zoom_range=0.2,\n",
        "    horizontal_flip=True)"
      ],
      "execution_count": null,
      "outputs": [
        {
          "output_type": "stream",
          "text": [
            "Model: \"sequential_1\"\n",
            "_________________________________________________________________\n",
            "Layer (type)                 Output Shape              Param #   \n",
            "=================================================================\n",
            "conv2d_1 (Conv2D)            (None, 148, 148, 32)      896       \n",
            "_________________________________________________________________\n",
            "activation_1 (Activation)    (None, 148, 148, 32)      0         \n",
            "_________________________________________________________________\n",
            "max_pooling2d_1 (MaxPooling2 (None, 74, 74, 32)        0         \n",
            "_________________________________________________________________\n",
            "conv2d_2 (Conv2D)            (None, 72, 72, 32)        9248      \n",
            "_________________________________________________________________\n",
            "activation_2 (Activation)    (None, 72, 72, 32)        0         \n",
            "_________________________________________________________________\n",
            "max_pooling2d_2 (MaxPooling2 (None, 36, 36, 32)        0         \n",
            "_________________________________________________________________\n",
            "conv2d_3 (Conv2D)            (None, 34, 34, 64)        18496     \n",
            "_________________________________________________________________\n",
            "activation_3 (Activation)    (None, 34, 34, 64)        0         \n",
            "_________________________________________________________________\n",
            "max_pooling2d_3 (MaxPooling2 (None, 17, 17, 64)        0         \n",
            "_________________________________________________________________\n",
            "flatten_1 (Flatten)          (None, 18496)             0         \n",
            "_________________________________________________________________\n",
            "dense_1 (Dense)              (None, 64)                1183808   \n",
            "_________________________________________________________________\n",
            "activation_4 (Activation)    (None, 64)                0         \n",
            "_________________________________________________________________\n",
            "dropout_1 (Dropout)          (None, 64)                0         \n",
            "_________________________________________________________________\n",
            "dense_2 (Dense)              (None, 6)                 390       \n",
            "_________________________________________________________________\n",
            "activation_5 (Activation)    (None, 6)                 0         \n",
            "=================================================================\n",
            "Total params: 1,212,838\n",
            "Trainable params: 1,212,838\n",
            "Non-trainable params: 0\n",
            "_________________________________________________________________\n"
          ],
          "name": "stdout"
        }
      ]
    },
    {
      "cell_type": "code",
      "metadata": {
        "id": "e1mrVpTf7FxS"
      },
      "source": [
        "test_datagen = ImageDataGenerator(rescale=1. / 255)"
      ],
      "execution_count": null,
      "outputs": []
    },
    {
      "cell_type": "code",
      "metadata": {
        "colab": {
          "base_uri": "https://localhost:8080/"
        },
        "id": "-9-r1rZT7JAE",
        "outputId": "866b5626-5318-44bc-dc1a-9d4b271c892d"
      },
      "source": [
        "### Setup the generators\n",
        "###fits the model on batches with real-time data augmentation\n",
        "train_generator = train_datagen.flow_from_directory(\n",
        "    train_data_dir,\n",
        "    target_size=(img_width, img_height),\n",
        "    batch_size=batch_size,\n",
        "    class_mode='categorical')\n",
        "\n",
        "test_generator = test_datagen.flow_from_directory(\n",
        "    test_data_dir,\n",
        "    target_size=(img_width, img_height),\n",
        "    batch_size=batch_size,\n",
        "    class_mode='categorical')"
      ],
      "execution_count": null,
      "outputs": [
        {
          "output_type": "stream",
          "text": [
            "Found 14034 images belonging to 6 classes.\n",
            "Found 14034 images belonging to 6 classes.\n"
          ],
          "name": "stdout"
        }
      ]
    },
    {
      "cell_type": "code",
      "metadata": {
        "colab": {
          "base_uri": "https://localhost:8080/",
          "height": 506
        },
        "id": "N86NBmft7Mne",
        "outputId": "7d1991ab-8f68-4c2d-9d49-921e3c5b4acd"
      },
      "source": [
        "### Build the model\n",
        "from PIL import ImageFile\n",
        "ImageFile.LOAD_TRUNCATED_IMAGES = True\n",
        "\n",
        "\n",
        "model.fit_generator(\n",
        "    train_generator,\n",
        "    steps_per_epoch=nb_train_samples // batch_size,\n",
        "    epochs=epochs,\n",
        "    validation_data=test_generator,\n",
        "    validation_steps=nb_test_samples // batch_size)"
      ],
      "execution_count": null,
      "outputs": [
        {
          "output_type": "stream",
          "text": [
            "Epoch 1/8\n",
            "877/877 [==============================] - 803s 915ms/step - loss: 1.1464 - accuracy: 0.5598 - val_loss: 1.3165 - val_accuracy: 0.7233\n",
            "Epoch 2/8\n",
            "877/877 [==============================] - 343s 391ms/step - loss: 0.8946 - accuracy: 0.6756 - val_loss: 0.8762 - val_accuracy: 0.7236\n",
            "Epoch 3/8\n",
            "877/877 [==============================] - 321s 366ms/step - loss: 0.8334 - accuracy: 0.7100 - val_loss: 0.6119 - val_accuracy: 0.7627\n",
            "Epoch 4/8\n",
            "877/877 [==============================] - 270s 308ms/step - loss: 0.7927 - accuracy: 0.7258 - val_loss: 0.9296 - val_accuracy: 0.8098\n",
            "Epoch 5/8\n",
            "877/877 [==============================] - 246s 280ms/step - loss: 0.7698 - accuracy: 0.7346 - val_loss: 0.2057 - val_accuracy: 0.7831\n",
            "Epoch 6/8\n",
            "877/877 [==============================] - 231s 263ms/step - loss: 0.7735 - accuracy: 0.7355 - val_loss: 0.2122 - val_accuracy: 0.8132\n",
            "Epoch 7/8\n",
            "877/877 [==============================] - 213s 243ms/step - loss: 0.7770 - accuracy: 0.7440 - val_loss: 0.6712 - val_accuracy: 0.8148\n",
            "Epoch 8/8\n",
            "877/877 [==============================] - 258s 295ms/step - loss: 0.7637 - accuracy: 0.7457 - val_loss: 0.9279 - val_accuracy: 0.8061\n"
          ],
          "name": "stdout"
        },
        {
          "output_type": "execute_result",
          "data": {
            "text/plain": [
              "<keras.callbacks.callbacks.History at 0x21da07750c8>"
            ]
          },
          "metadata": {
            "tags": []
          },
          "execution_count": 8
        }
      ]
    },
    {
      "cell_type": "code",
      "metadata": {
        "id": "QsVOwC3t7PI8",
        "outputId": "a874a778-6afe-4c4f-a6a6-1c7cfd007ca6"
      },
      "source": [
        "### Performance evaluation\n",
        "score = model.evaluate_generator(test_generator,nb_test_samples/batch_size)\n",
        "print(\" Total: \", len(test_generator.filenames))\n",
        "print(\"Loss: \", score[0], \"Accuracy: \", score[1])"
      ],
      "execution_count": null,
      "outputs": [
        {
          "output_type": "stream",
          "text": [
            " Total:  14034\n",
            "Loss:  0.7028783559799194 Accuracy:  0.8008643388748169\n"
          ],
          "name": "stdout"
        }
      ]
    },
    {
      "cell_type": "code",
      "metadata": {
        "id": "Q5LKk35W7UOh"
      },
      "source": [
        "true_classes = test_generator.classes"
      ],
      "execution_count": null,
      "outputs": []
    },
    {
      "cell_type": "code",
      "metadata": {
        "id": "sSYUI5n87X9X",
        "outputId": "a9ebc6ed-8a17-4fdb-a8b7-653dd8b9c1c7"
      },
      "source": [
        "#testing the classifier\n",
        "y_pred = model.predict(test_generator)\n",
        "y_pred_labels=np.argmax(y_pred , axis = 1)\n",
        "print(y_pred_labels)\n",
        "print(\"-----------------CONFUSION MATRIX-------------------\")\n",
        "\n",
        "print(confusion_matrix(true_classes,y_pred_labels))  \n",
        "\n",
        "print(\"------------------CLASSIFICATION REPORT ------------------\")\n",
        "print(classification_report(true_classes,y_pred_labels))\n",
        "Y_pred = model.predict_generator(test_generator)\n",
        "\n"
      ],
      "execution_count": null,
      "outputs": [
        {
          "output_type": "stream",
          "text": [
            "[3 4 1 ... 3 2 2]\n",
            "-----------------CONFUSION MATRIX-------------------\n",
            "[[360 379 379 389 302 382]\n",
            " [357 343 415 432 296 428]\n",
            " [365 370 403 489 307 470]\n",
            " [414 373 446 511 320 448]\n",
            " [355 352 402 464 274 427]\n",
            " [350 416 428 475 300 413]]\n",
            "------------------CLASSIFICATION REPORT ------------------\n",
            "              precision    recall  f1-score   support\n",
            "\n",
            "           0       0.16      0.16      0.16      2191\n",
            "           1       0.15      0.15      0.15      2271\n",
            "           2       0.16      0.17      0.17      2404\n",
            "           3       0.19      0.20      0.19      2512\n",
            "           4       0.15      0.12      0.13      2274\n",
            "           5       0.16      0.17      0.17      2382\n",
            "\n",
            "    accuracy                           0.16     14034\n",
            "   macro avg       0.16      0.16      0.16     14034\n",
            "weighted avg       0.16      0.16      0.16     14034\n",
            "\n"
          ],
          "name": "stdout"
        }
      ]
    },
    {
      "cell_type": "code",
      "metadata": {
        "id": "GNwV4oxi7b8p",
        "outputId": "edc241f3-2b15-441b-def7-12ebed67e8b7"
      },
      "source": [
        "# Predicting the classes\n",
        "test_image = image.load_img(r'C:\\Users\\VIGNESH J\\Downloads\\scenery_dataset\\seg_pred\\101.jpg', target_size = (150, 150))\n",
        "test_image = image.img_to_array(test_image)\n",
        "test_image = np.expand_dims(test_image, axis = 0)\n",
        "result = model.predict(test_image)\n",
        "print(result)"
      ],
      "execution_count": null,
      "outputs": [
        {
          "output_type": "stream",
          "text": [
            "[[0. 0. 1. 0. 0. 0.]]\n"
          ],
          "name": "stdout"
        }
      ]
    }
  ]
}